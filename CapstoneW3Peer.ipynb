{
 "cells": [
  {
   "cell_type": "markdown",
   "metadata": {},
   "source": [
    "## Import Libraries"
   ]
  },
  {
   "cell_type": "code",
   "execution_count": 344,
   "metadata": {},
   "outputs": [],
   "source": [
    "import pandas as pd # well I'm not using arrays anymore...progress \n",
    "import requests # for accesing Wiki URL\n",
    "from bs4 import BeautifulSoup # Using BeautifulSoup for HTML Scrapping\n",
    "import lxml # lxml supports BeautifulSoup"
   ]
  },
  {
   "cell_type": "markdown",
   "metadata": {},
   "source": [
    "## Getting the 'Soup' of the WikiPage"
   ]
  },
  {
   "cell_type": "code",
   "execution_count": 345,
   "metadata": {},
   "outputs": [],
   "source": [
    "wikiPage = requests.get(\"https://en.wikipedia.org/wiki/List_of_postal_codes_of_Canada:_M\").text # connect and get the WebPage\n",
    "soup = BeautifulSoup(wikiPage, 'lxml') # returns the HTML page, as is the Markup."
   ]
  },
  {
   "cell_type": "code",
   "execution_count": 346,
   "metadata": {},
   "outputs": [],
   "source": [
    "table = soup.find('table', {'class': 'wikitable sortable'}) # finding table in the page, the class is given right beside the table tag in HTML page\n",
    "rows = table.findAll('tr') # find table row and create a list of them"
   ]
  },
  {
   "cell_type": "markdown",
   "metadata": {},
   "source": [
    "## Filtering the 'Soup' until we get the sweet Table we desire"
   ]
  },
  {
   "cell_type": "code",
   "execution_count": 347,
   "metadata": {},
   "outputs": [],
   "source": [
    "text=[]\n",
    "for row in rows:\n",
    "    text.append(row.get_text().strip().split('\\n')) \n",
    "\n",
    "# theres '\\n' after and before every row so we strip (the string), to get pospostcode, borough, neighbourhood we use split with ('\\n')\n",
    "    "
   ]
  },
  {
   "cell_type": "markdown",
   "metadata": {},
   "source": [
    "#### The Table is ready now we seperate columns to feed to pandas."
   ]
  },
  {
   "cell_type": "code",
   "execution_count": 348,
   "metadata": {},
   "outputs": [],
   "source": [
    "# create three lists for the three columns we need\n",
    "postcode = []\n",
    "borough = []\n",
    "neighbourhood = []\n",
    "\n",
    "# assign every 0th element in each sub-list to postcode, 1st to borough, 2nd to neighbourhood\n",
    "for i in range(0, len(text)):\n",
    "    postcode.append(text[i][0])\n",
    "    borough.append(text[i][1])\n",
    "    neighbourhood.append(text[i][2])"
   ]
  },
  {
   "cell_type": "markdown",
   "metadata": {},
   "source": [
    "## Create DataFrame using pandas"
   ]
  },
  {
   "cell_type": "code",
   "execution_count": 349,
   "metadata": {
    "scrolled": true
   },
   "outputs": [],
   "source": [
    "# create df with proper column names\n",
    "df = pd.DataFrame(list(zip(postcode,borough,neighbourhood)), columns =['PostalCode', 'Borough', 'Neighborhood'])\n",
    "# drop row 0 because it contains the strings 'postcode', 'borough' and 'neighbourhood' \n",
    "# I know there are simpler ways of doing it, I'm in a hurry\n",
    "df = df.drop(0)"
   ]
  },
  {
   "cell_type": "markdown",
   "metadata": {},
   "source": [
    "#### Condition 1.<br>\n",
    "<p>\"Only process the cells that have an assigned borough. Ignore cells with a borough that is Not assigned.\"</p>"
   ]
  },
  {
   "cell_type": "code",
   "execution_count": 350,
   "metadata": {
    "scrolled": true
   },
   "outputs": [],
   "source": [
    "df = df[df.Borough != 'Not assigned'] # if burough *is not* not assigned then add it to the new df"
   ]
  },
  {
   "cell_type": "markdown",
   "metadata": {},
   "source": [
    "#### Condition 2.<br>\n",
    "<p>\"More than one neighborhood can exist in one postal code area. For example, in the table on the Wikipedia page, you will notice that M5A is listed twice and has two neighborhoods: Harbourfront and Regent Park. These two rows will be combined into one row with the neighborhoods separated with a comma as shown in row 11 in the above table.\"</p>"
   ]
  },
  {
   "cell_type": "code",
   "execution_count": 351,
   "metadata": {
    "scrolled": true
   },
   "outputs": [],
   "source": [
    "newdf = df.groupby(['PostalCode','Borough'], sort = False).agg(lambda x: ','.join(x)) # 1. groupby PostalCode and Borough, then aggregate the strings and join them using ','\n",
    "newdf.reset_index(level=['PostalCode','Borough'], inplace=True)"
   ]
  },
  {
   "cell_type": "markdown",
   "metadata": {},
   "source": [
    "#### Condition 3.<br>\n",
    "<p>\"If a cell has a borough but a Not assigned neighborhood, then the neighborhood will be the same as the borough. So for the 9th cell in the table on the Wikipedia page, the value of the Borough and the Neighborhood columns will be Queen's Park.\"</p>"
   ]
  },
  {
   "cell_type": "code",
   "execution_count": 352,
   "metadata": {},
   "outputs": [],
   "source": [
    "newdf.loc[newdf['Neighborhood'] == 'Not assigned', ['Neighborhood']] = newdf['Borough']"
   ]
  },
  {
   "cell_type": "markdown",
   "metadata": {},
   "source": [
    "## The Final DataFrame and its Shape:"
   ]
  },
  {
   "cell_type": "code",
   "execution_count": 355,
   "metadata": {
    "scrolled": true
   },
   "outputs": [
    {
     "data": {
      "text/plain": [
       "(103, 3)"
      ]
     },
     "execution_count": 355,
     "metadata": {},
     "output_type": "execute_result"
    }
   ],
   "source": [
    "newdf.head()\n",
    "newdf.shape"
   ]
  },
  {
   "cell_type": "code",
   "execution_count": null,
   "metadata": {},
   "outputs": [],
   "source": []
  }
 ],
 "metadata": {
  "kernelspec": {
   "display_name": "Python 3",
   "language": "python",
   "name": "python3"
  },
  "language_info": {
   "codemirror_mode": {
    "name": "ipython",
    "version": 3
   },
   "file_extension": ".py",
   "mimetype": "text/x-python",
   "name": "python",
   "nbconvert_exporter": "python",
   "pygments_lexer": "ipython3",
   "version": "3.7.3"
  }
 },
 "nbformat": 4,
 "nbformat_minor": 4
}
