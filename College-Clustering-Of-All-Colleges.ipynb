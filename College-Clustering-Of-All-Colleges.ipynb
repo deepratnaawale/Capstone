{
 "cells": [
  {
   "cell_type": "markdown",
   "metadata": {},
   "source": [
    "# Table Of Contents\n",
    "<font size = 3>\n",
    "\n",
    "<a href=\"#intro\">Introduction</a>\n",
    "\n",
    "0. <a href=\"#item0\">Imports</a>\n",
    "\n",
    "1. <a href=\"#item1\">Data Acquisition and Preparation</a>\n",
    "\n",
    "2. <a href=\"#item2\">Data Cleaning</a>\n",
    "\n",
    "3. <a href=\"#item3\">Using Google Places API</a>\n",
    "\n",
    "4. <a href=\"#item4\">Exploratory Data Analysis</a>\n",
    "\n",
    "5. <a href=\"#item5\">Four Square API</a>\n",
    "    \n",
    "6. <a href=\"#item6\">Clustering</a>\n",
    "\n",
    "</font>\n",
    "</div>"
   ]
  },
  {
   "cell_type": "markdown",
   "metadata": {},
   "source": [
    "<a id='intro'></a> \n",
    "# Introduction to problem:\n",
    "\n",
    "## Neighbourhood Similarity near Colleges \n",
    "<p>\n",
    "Every year many under-graduates and graduates pursue higher studies. The top choices for education are USA, UK, Canada, Australia, New Zealand. What many people want is a proper neighborhood (ignoring money constraints), once you do find a good college, you might want to know what lies near the college, we'll use FourSquare API to explore the neighbourhood and find colleges having the same neighbourhood. So if you don't get selected in the college you would know what colleges have similar neighbourhood, makes it easy to choose what colleges to choose to send application based on your neighbourhood preference. For example I want a safe neighbourhood, with many cafes and gyms (suppose) so I would explore neighbourhood BASED on my preferences, and so can everyone else. This is useful for any student who wants to goto a college with a similar neighbourhood in or to other country.\n",
    "</p>\n"
   ]
  },
  {
   "cell_type": "markdown",
   "metadata": {
    "tags": []
   },
   "source": [
    "<br><br><br>\n",
    "<a id='item0'></a> \n",
    "# Imports"
   ]
  },
  {
   "cell_type": "code",
   "execution_count": 15,
   "metadata": {},
   "outputs": [
    {
     "name": "stdout",
     "output_type": "stream",
     "text": [
      "Libraries Imported\n"
     ]
    }
   ],
   "source": [
    "import requests  # get requests\n",
    "import json  # to parse the json file\n",
    "import os.path\n",
    "\n",
    "import numpy as np\n",
    "import pandas as pd  # because arrays are oldschool\n",
    "from pandas.io.json import json_normalize  # for handling nested json\n",
    "\n",
    "import seaborn as sns\n",
    "\n",
    "import matplotlib as mpl\n",
    "import matplotlib.pyplot as plt\n",
    "import matplotlib.cm as cm\n",
    "import matplotlib.colors as colors\n",
    "\n",
    "import folium\n",
    "from folium.plugins import MarkerCluster\n",
    "\n",
    "import googlemaps\n",
    "import configparser\n",
    "\n",
    "from progressbar import ProgressBar  # tests your patience\n",
    "import time  # for delay\n",
    "# to clear notebook output cell via code\n",
    "from IPython.display import clear_output\n",
    "\n",
    "import pprint\n",
    "pp = pprint.PrettyPrinter(indent=4)\n",
    "\n",
    "\n",
    "print('Libraries Imported')"
   ]
  },
  {
   "cell_type": "markdown",
   "metadata": {},
   "source": [
    "<br><br><br>\n",
    "<a id='item1'></a> \n",
    "# 1. Data Acquisition and Preparation\n"
   ]
  },
  {
   "cell_type": "markdown",
   "metadata": {},
   "source": [
    "## Get University Data"
   ]
  },
  {
   "cell_type": "code",
   "execution_count": 3,
   "metadata": {},
   "outputs": [
    {
     "name": "stdout",
     "output_type": "stream",
     "text": [
      "File Already Exists.\n"
     ]
    }
   ],
   "source": [
    "csv_path = \"./CSVs/world-universities.csv\"\n",
    "isFile = os.path.isfile(csv_path)\n",
    "url = \"https://raw.githubusercontent.com/deepratnaawale/world-universities-csv/master/world-universities.csv\"\n",
    "if not isFile:\n",
    "    res = requests.get(url, allow_redirects=True)\n",
    "    with open(csv_path, 'wb') as file:\n",
    "        file.write(res.content)\n",
    "        print(\"File Downloaded\")\n",
    "else:\n",
    "    print(\"File Already Exists.\")"
   ]
  },
  {
   "cell_type": "markdown",
   "metadata": {
    "tags": []
   },
   "source": [
    "<br><br><br><br>\n",
    "<a id='item2'></a> \n",
    "# 2. Data Cleaning"
   ]
  },
  {
   "cell_type": "code",
   "execution_count": 16,
   "metadata": {},
   "outputs": [],
   "source": [
    "df = pd.read_csv(csv_path)"
   ]
  },
  {
   "cell_type": "code",
   "execution_count": 17,
   "metadata": {},
   "outputs": [
    {
     "data": {
      "text/plain": [
       "(9363, 3)"
      ]
     },
     "execution_count": 17,
     "metadata": {},
     "output_type": "execute_result"
    }
   ],
   "source": [
    "df.shape"
   ]
  },
  {
   "cell_type": "code",
   "execution_count": 18,
   "metadata": {},
   "outputs": [
    {
     "data": {
      "text/html": [
       "<div>\n",
       "<style scoped>\n",
       "    .dataframe tbody tr th:only-of-type {\n",
       "        vertical-align: middle;\n",
       "    }\n",
       "\n",
       "    .dataframe tbody tr th {\n",
       "        vertical-align: top;\n",
       "    }\n",
       "\n",
       "    .dataframe thead th {\n",
       "        text-align: right;\n",
       "    }\n",
       "</style>\n",
       "<table border=\"1\" class=\"dataframe\">\n",
       "  <thead>\n",
       "    <tr style=\"text-align: right;\">\n",
       "      <th></th>\n",
       "      <th>Country_Code</th>\n",
       "      <th>University_Name</th>\n",
       "    </tr>\n",
       "  </thead>\n",
       "  <tbody>\n",
       "    <tr>\n",
       "      <th>0</th>\n",
       "      <td>AD</td>\n",
       "      <td>University of Andorra</td>\n",
       "    </tr>\n",
       "    <tr>\n",
       "      <th>1</th>\n",
       "      <td>AE</td>\n",
       "      <td>Abu Dhabi University</td>\n",
       "    </tr>\n",
       "    <tr>\n",
       "      <th>2</th>\n",
       "      <td>AE</td>\n",
       "      <td>Ajman University of Science &amp; Technology</td>\n",
       "    </tr>\n",
       "    <tr>\n",
       "      <th>3</th>\n",
       "      <td>AE</td>\n",
       "      <td>Alain University of Science and Technology</td>\n",
       "    </tr>\n",
       "    <tr>\n",
       "      <th>4</th>\n",
       "      <td>AE</td>\n",
       "      <td>Al Ghurair University</td>\n",
       "    </tr>\n",
       "    <tr>\n",
       "      <th>...</th>\n",
       "      <td>...</td>\n",
       "      <td>...</td>\n",
       "    </tr>\n",
       "    <tr>\n",
       "      <th>9358</th>\n",
       "      <td>ZW</td>\n",
       "      <td>Solusi University</td>\n",
       "    </tr>\n",
       "    <tr>\n",
       "      <th>9359</th>\n",
       "      <td>ZW</td>\n",
       "      <td>University of Zimbabwe</td>\n",
       "    </tr>\n",
       "    <tr>\n",
       "      <th>9360</th>\n",
       "      <td>ZW</td>\n",
       "      <td>Women's University in Africa</td>\n",
       "    </tr>\n",
       "    <tr>\n",
       "      <th>9361</th>\n",
       "      <td>ZW</td>\n",
       "      <td>Zimbabwe Ezekiel Guti University</td>\n",
       "    </tr>\n",
       "    <tr>\n",
       "      <th>9362</th>\n",
       "      <td>ZW</td>\n",
       "      <td>Zimbabwe Open University</td>\n",
       "    </tr>\n",
       "  </tbody>\n",
       "</table>\n",
       "<p>9363 rows × 2 columns</p>\n",
       "</div>"
      ],
      "text/plain": [
       "     Country_Code                             University_Name\n",
       "0              AD                       University of Andorra\n",
       "1              AE                        Abu Dhabi University\n",
       "2              AE    Ajman University of Science & Technology\n",
       "3              AE  Alain University of Science and Technology\n",
       "4              AE                       Al Ghurair University\n",
       "...           ...                                         ...\n",
       "9358           ZW                           Solusi University\n",
       "9359           ZW                      University of Zimbabwe\n",
       "9360           ZW                Women's University in Africa\n",
       "9361           ZW            Zimbabwe Ezekiel Guti University\n",
       "9362           ZW                    Zimbabwe Open University\n",
       "\n",
       "[9363 rows x 2 columns]"
      ]
     },
     "execution_count": 18,
     "metadata": {},
     "output_type": "execute_result"
    }
   ],
   "source": [
    "df.drop(columns='Website_Link')"
   ]
  },
  {
   "cell_type": "code",
   "execution_count": 21,
   "metadata": {},
   "outputs": [
    {
     "data": {
      "text/html": [
       "<div>\n",
       "<style scoped>\n",
       "    .dataframe tbody tr th:only-of-type {\n",
       "        vertical-align: middle;\n",
       "    }\n",
       "\n",
       "    .dataframe tbody tr th {\n",
       "        vertical-align: top;\n",
       "    }\n",
       "\n",
       "    .dataframe thead th {\n",
       "        text-align: right;\n",
       "    }\n",
       "</style>\n",
       "<table border=\"1\" class=\"dataframe\">\n",
       "  <thead>\n",
       "    <tr style=\"text-align: right;\">\n",
       "      <th></th>\n",
       "      <th>Country_Code</th>\n",
       "      <th>University_Name</th>\n",
       "      <th>Website_Link</th>\n",
       "    </tr>\n",
       "  </thead>\n",
       "  <tbody>\n",
       "    <tr>\n",
       "      <th>251</th>\n",
       "      <td>AU</td>\n",
       "      <td>Australian Catholic University</td>\n",
       "      <td>http://www.acu.edu.au/</td>\n",
       "    </tr>\n",
       "    <tr>\n",
       "      <th>252</th>\n",
       "      <td>AU</td>\n",
       "      <td>Australian Correspondence Schools</td>\n",
       "      <td>http://www.acs.edu.au/</td>\n",
       "    </tr>\n",
       "    <tr>\n",
       "      <th>253</th>\n",
       "      <td>AU</td>\n",
       "      <td>Australian Defence Force Academy</td>\n",
       "      <td>http://www.adfa.oz.au/</td>\n",
       "    </tr>\n",
       "    <tr>\n",
       "      <th>254</th>\n",
       "      <td>AU</td>\n",
       "      <td>Australian Lutheran College</td>\n",
       "      <td>http://www.alc.edu.au/</td>\n",
       "    </tr>\n",
       "    <tr>\n",
       "      <th>255</th>\n",
       "      <td>AU</td>\n",
       "      <td>Australian Maritime College</td>\n",
       "      <td>http://www.amc.edu.au/</td>\n",
       "    </tr>\n",
       "    <tr>\n",
       "      <th>...</th>\n",
       "      <td>...</td>\n",
       "      <td>...</td>\n",
       "      <td>...</td>\n",
       "    </tr>\n",
       "    <tr>\n",
       "      <th>9179</th>\n",
       "      <td>US</td>\n",
       "      <td>York College Nebraska</td>\n",
       "      <td>http://www.york.edu/</td>\n",
       "    </tr>\n",
       "    <tr>\n",
       "      <th>9180</th>\n",
       "      <td>US</td>\n",
       "      <td>York College of Pennsylvania</td>\n",
       "      <td>http://www.yorkcol.edu/</td>\n",
       "    </tr>\n",
       "    <tr>\n",
       "      <th>9181</th>\n",
       "      <td>US</td>\n",
       "      <td>Yorker International University</td>\n",
       "      <td>http://www.nyuniversity.net/</td>\n",
       "    </tr>\n",
       "    <tr>\n",
       "      <th>9182</th>\n",
       "      <td>US</td>\n",
       "      <td>York University</td>\n",
       "      <td>http://www.yorkuniversity.us/</td>\n",
       "    </tr>\n",
       "    <tr>\n",
       "      <th>9183</th>\n",
       "      <td>US</td>\n",
       "      <td>Youngstown State University</td>\n",
       "      <td>http://www.ysu.edu/</td>\n",
       "    </tr>\n",
       "  </tbody>\n",
       "</table>\n",
       "<p>2279 rows × 3 columns</p>\n",
       "</div>"
      ],
      "text/plain": [
       "     Country_Code                    University_Name  \\\n",
       "251            AU     Australian Catholic University   \n",
       "252            AU  Australian Correspondence Schools   \n",
       "253            AU   Australian Defence Force Academy   \n",
       "254            AU        Australian Lutheran College   \n",
       "255            AU        Australian Maritime College   \n",
       "...           ...                                ...   \n",
       "9179           US              York College Nebraska   \n",
       "9180           US       York College of Pennsylvania   \n",
       "9181           US    Yorker International University   \n",
       "9182           US                    York University   \n",
       "9183           US        Youngstown State University   \n",
       "\n",
       "                       Website_Link  \n",
       "251          http://www.acu.edu.au/  \n",
       "252          http://www.acs.edu.au/  \n",
       "253          http://www.adfa.oz.au/  \n",
       "254          http://www.alc.edu.au/  \n",
       "255          http://www.amc.edu.au/  \n",
       "...                             ...  \n",
       "9179           http://www.york.edu/  \n",
       "9180        http://www.yorkcol.edu/  \n",
       "9181   http://www.nyuniversity.net/  \n",
       "9182  http://www.yorkuniversity.us/  \n",
       "9183            http://www.ysu.edu/  \n",
       "\n",
       "[2279 rows x 3 columns]"
      ]
     },
     "execution_count": 21,
     "metadata": {},
     "output_type": "execute_result"
    }
   ],
   "source": [
    "country_codes = ['US', 'UK', 'CA', 'AU', 'NZ']\n",
    "# for country_code in country_codes:\n",
    "df = df[df['Country_Code'].isin(country_codes)]\n",
    "df"
   ]
  },
  {
   "cell_type": "markdown",
   "metadata": {
    "tags": []
   },
   "source": [
    "<br><br><br>\n",
    "<a id='item3'></a> \n",
    "# 3. Using Google Places API"
   ]
  },
  {
   "cell_type": "code",
   "execution_count": 22,
   "metadata": {},
   "outputs": [],
   "source": [
    "def getGoogleAPIKey():\n",
    "    config = configparser.ConfigParser()\n",
    "    config.read('local-config.ini')\n",
    "    return config['google maps api']['key']"
   ]
  },
  {
   "cell_type": "code",
   "execution_count": 23,
   "metadata": {},
   "outputs": [],
   "source": [
    "show_progress = ProgressBar()\n",
    "gmaps = googlemaps.Client(key=getGoogleAPIKey())"
   ]
  },
  {
   "cell_type": "code",
   "execution_count": 32,
   "metadata": {},
   "outputs": [],
   "source": [
    "req = gmaps.places(query='Australian Catholic University, AU', region='au')"
   ]
  },
  {
   "cell_type": "code",
   "execution_count": 34,
   "metadata": {},
   "outputs": [
    {
     "name": "stdout",
     "output_type": "stream",
     "text": [
      "Park Hyatt Melbourne ['lodging', 'point_of_interest', 'establishment']\n",
      "Hotel Grand Chancellor ['lodging', 'point_of_interest', 'establishment']\n",
      "Mantra on Russell Melbourne ['lodging', 'point_of_interest', 'establishment']\n",
      "Grand Hyatt Melbourne ['lodging', 'point_of_interest', 'establishment']\n",
      "The Victoria Hotel ['lodging', 'point_of_interest', 'establishment']\n",
      "The Park Hotel Melbourne ['lodging', 'point_of_interest', 'establishment']\n",
      "ibis Melbourne - Hotel & Apartments ['lodging', 'point_of_interest', 'establishment']\n",
      "Novotel Melbourne on Collins ['lodging', 'point_of_interest', 'establishment']\n",
      "DoubleTree by Hilton Hotel Melbourne - Flinders Street ['lodging', 'point_of_interest', 'establishment']\n",
      "Causeway 353 Hotel ['lodging', 'point_of_interest', 'establishment']\n",
      "The Langham, Melbourne ['lodging', 'point_of_interest', 'establishment']\n",
      "Mantra on Little Bourke Melbourne ['lodging', 'point_of_interest', 'establishment']\n",
      "Oaks Melbourne on Market Hotel ['lodging', 'point_of_interest', 'establishment']\n",
      "Mercure Welcome Melbourne ['lodging', 'point_of_interest', 'establishment']\n",
      "Shot Tower Museum ['museum', 'tourist_attraction', 'point_of_interest', 'establishment']\n",
      "ibis budget Melbourne CBD ['lodging', 'point_of_interest', 'establishment']\n",
      "Mantra on Jolimont Melbourne ['lodging', 'point_of_interest', 'establishment']\n",
      "City East Motel ['lodging', 'point_of_interest', 'establishment']\n",
      "La Camera, Italian Restaurant ['restaurant', 'food', 'point_of_interest', 'establishment']\n",
      "City Edge on Elizabeth Apartment Hotel ['lodging', 'point_of_interest', 'establishment']\n"
     ]
    }
   ],
   "source": [
    "lat_long = req['results'][0]['geometry']['location']\n",
    "\n",
    "places_nearby = gmaps.places_nearby(\n",
    "    location=lat_long, radius=3000, type='point_of_interest', )\n",
    "\n",
    "for place in places_nearby['results']:\n",
    "    print(place['name'], place['types'])"
   ]
  },
  {
   "cell_type": "markdown",
   "metadata": {},
   "source": [
    "<br><br><br>\n",
    "# Importing latitudes and longitudes from json"
   ]
  },
  {
   "cell_type": "code",
   "execution_count": null,
   "metadata": {},
   "outputs": [],
   "source": [
    "with open('G-lat-long-new.json') as jsonFile:  # refers to the json we created earlier\n",
    "    ll_data = json.load(jsonFile)  # load data to a python var\n",
    "print('Lat-Long Imported.')"
   ]
  },
  {
   "cell_type": "code",
   "execution_count": null,
   "metadata": {},
   "outputs": [],
   "source": [
    "ll = json_normalize(ll_data, record_path='candidates', meta=['status'])"
   ]
  },
  {
   "cell_type": "code",
   "execution_count": null,
   "metadata": {},
   "outputs": [],
   "source": [
    "ll.drop('formatted_address', axis=1, inplace=True)\n",
    "ll.rename(columns={'geometry.location.lat': 'latitude',\n",
    "          'geometry.location.lng': 'longitude'})\n",
    "ll.shape"
   ]
  },
  {
   "cell_type": "markdown",
   "metadata": {},
   "source": [
    "<br>"
   ]
  },
  {
   "cell_type": "markdown",
   "metadata": {},
   "source": [
    "<br>\n",
    "\n",
    "## Making new columns in df from ll dataframe\n",
    "\n",
    "<br>"
   ]
  },
  {
   "cell_type": "code",
   "execution_count": null,
   "metadata": {},
   "outputs": [],
   "source": [
    "df = df.join(ll)"
   ]
  },
  {
   "cell_type": "code",
   "execution_count": null,
   "metadata": {},
   "outputs": [],
   "source": [
    "df.shape"
   ]
  },
  {
   "cell_type": "code",
   "execution_count": null,
   "metadata": {},
   "outputs": [],
   "source": [
    "df = df[df['status'] == \"OK\"]"
   ]
  },
  {
   "cell_type": "code",
   "execution_count": null,
   "metadata": {},
   "outputs": [],
   "source": [
    "df.drop(['status'], axis=1, inplace=True)\n",
    "df = df.rename(columns={'geometry.location.lat': 'latitude',\n",
    "               'geometry.location.lng': 'longitude'})\n",
    "df.head()"
   ]
  },
  {
   "cell_type": "code",
   "execution_count": null,
   "metadata": {},
   "outputs": [],
   "source": [
    "df.to_csv('college-dataset.csv')"
   ]
  },
  {
   "cell_type": "markdown",
   "metadata": {},
   "source": [
    "<br>\n",
    "\n",
    "## We have saved the data to college_dataset.csv \n",
    "\n",
    "<br>\n"
   ]
  },
  {
   "cell_type": "code",
   "execution_count": null,
   "metadata": {},
   "outputs": [],
   "source": [
    "df = pd.read_csv(\"college-dataset.csv\")"
   ]
  },
  {
   "cell_type": "code",
   "execution_count": null,
   "metadata": {},
   "outputs": [],
   "source": [
    "df.head()"
   ]
  },
  {
   "cell_type": "code",
   "execution_count": null,
   "metadata": {},
   "outputs": [],
   "source": [
    "df.drop(['Unnamed: 0'], axis=1, inplace=True)"
   ]
  },
  {
   "cell_type": "code",
   "execution_count": null,
   "metadata": {},
   "outputs": [],
   "source": [
    "df['country'].value_counts()"
   ]
  },
  {
   "cell_type": "code",
   "execution_count": null,
   "metadata": {},
   "outputs": [],
   "source": [
    "df = df[df['country'].str.contains(\"United States|United Kingdom|Canada\")]\n",
    "# keeping only the locations with location-country as US, UK, Canada"
   ]
  },
  {
   "cell_type": "code",
   "execution_count": null,
   "metadata": {},
   "outputs": [],
   "source": [
    "# manually checked lat long on google maps\n",
    "df['latitude'][df.college_name == 'University of California, Berkeley'] = 37.8718992\n",
    "df['longitude'][df.college_name ==\n",
    "                'University of California, Berkeley'] = -122.2607286\n",
    "\n",
    "df['latitude'][df.college_name == 'Johnson & Wales University'] = 41.8197902\n",
    "df['longitude'][df.college_name == 'Johnson & Wales University'] = -71.415209"
   ]
  },
  {
   "cell_type": "code",
   "execution_count": null,
   "metadata": {},
   "outputs": [],
   "source": [
    "# They are placed in india and nowhere found on google maps\n",
    "df.drop(df[df['college_name'] ==\n",
    "        'Engineering and Technology College'].index, inplace=True)\n",
    "df.drop(df[df['college_name'] ==\n",
    "        'College of Nursing and Public Health'].index, inplace=True)"
   ]
  },
  {
   "cell_type": "code",
   "execution_count": null,
   "metadata": {},
   "outputs": [],
   "source": [
    "df[df['fees'] > 50000]"
   ]
  },
  {
   "cell_type": "code",
   "execution_count": null,
   "metadata": {},
   "outputs": [],
   "source": [
    "# Manually searched college fees\n",
    "df['fees'][df.college_name == 'University of Colorado at Boulder'] = 48570\n",
    "df['fees'][df.college_name == 'University of Pennsylvania'] = 7134\n",
    "df['fees'][df.college_name == 'University of Nebraska Omaha'] = 28564\n",
    "df['fees'][df.college_name == 'Johns Hopkins University'] = 45350\n",
    "df['fees'][df.college_name == 'University of Illinois at Urbana Champaign'] = 53437\n",
    "df['fees'][df.college_name == 'Carnegie Mellon University'] = 38940\n",
    "df['fees'][df.college_name == 'Northwestern University'] = 42000\n",
    "df['fees'][df.college_name == 'Washington University in St. Louis'] = 63000\n",
    "df['fees'][df.college_name == 'University of Massachusetts Amherst'] = 62000\n",
    "df['fees'][df.college_name == 'Bentley University'] = 68640"
   ]
  },
  {
   "cell_type": "code",
   "execution_count": null,
   "metadata": {},
   "outputs": [],
   "source": [
    "df.reset_index(drop=True, inplace=True)"
   ]
  },
  {
   "cell_type": "code",
   "execution_count": null,
   "metadata": {},
   "outputs": [],
   "source": [
    "df.to_csv('final-college-dataset.csv')"
   ]
  },
  {
   "cell_type": "markdown",
   "metadata": {},
   "source": [
    "<br><br><br>\n",
    "\n",
    "<a id='item4'></a> \n",
    "# 4. Exploratory Data Analysis"
   ]
  },
  {
   "cell_type": "markdown",
   "metadata": {},
   "source": [
    "So now that we have our data it's time to explore it. Lets see the number per country. The venues data frame would make it easy to do so."
   ]
  },
  {
   "cell_type": "code",
   "execution_count": null,
   "metadata": {},
   "outputs": [],
   "source": [
    "df = pd.read_csv(\"final_college_dataset.csv\")"
   ]
  },
  {
   "cell_type": "code",
   "execution_count": null,
   "metadata": {},
   "outputs": [],
   "source": [
    "df.drop(['Unnamed: 0'], axis=1, inplace=True)"
   ]
  },
  {
   "cell_type": "code",
   "execution_count": null,
   "metadata": {},
   "outputs": [],
   "source": [
    "df_usa = df[df['country'].str.contains(\"United States\")]\n",
    "df_uk = df[df['country'].str.contains(\"United Kingdom\")]\n",
    "df_canada = df[df['country'].str.contains(\"Canada\")]"
   ]
  },
  {
   "cell_type": "markdown",
   "metadata": {},
   "source": [
    "<br><br>\n",
    "## Lets look at the geospatial data"
   ]
  },
  {
   "cell_type": "code",
   "execution_count": null,
   "metadata": {},
   "outputs": [],
   "source": [
    "usa_coordinates = [37.0902, -100]\n",
    "canada_coordinates = [54.6959279, -90]\n",
    "uk_coordinates = [54.2186138, -5]"
   ]
  },
  {
   "cell_type": "markdown",
   "metadata": {},
   "source": [
    "<br><br>\n",
    "## USA Map"
   ]
  },
  {
   "cell_type": "code",
   "execution_count": null,
   "metadata": {},
   "outputs": [],
   "source": [
    "usa_map = folium.Map(location=usa_coordinates, zoom_start=4)\n",
    "mc = MarkerCluster().add_to(usa_map)\n",
    "\n",
    "for row in df_usa.itertuples():\n",
    "    folium.Marker(\n",
    "        location=[row.latitude, row.longitude],\n",
    "        icon=None,\n",
    "        popup=row.college_name\n",
    "    ).add_to(mc)\n",
    "\n",
    "usa_map"
   ]
  },
  {
   "cell_type": "markdown",
   "metadata": {},
   "source": [
    "In case map not showing: https://github.com/xtreme0021/Capstone/blob/master/Images/USA_marker_cluster.png"
   ]
  },
  {
   "cell_type": "markdown",
   "metadata": {},
   "source": [
    "<br><br>\n",
    "## Canada Map"
   ]
  },
  {
   "cell_type": "code",
   "execution_count": null,
   "metadata": {},
   "outputs": [],
   "source": [
    "canada_map = folium.Map(location=canada_coordinates, zoom_start=4)\n",
    "mc = MarkerCluster().add_to(canada_map)\n",
    "\n",
    "for row in df_canada.itertuples():\n",
    "    folium.Marker(\n",
    "        location=[row.latitude, row.longitude],\n",
    "        icon=None,\n",
    "        popup=row.college_name\n",
    "    ).add_to(mc)\n",
    "\n",
    "canada_map"
   ]
  },
  {
   "cell_type": "markdown",
   "metadata": {},
   "source": [
    "In case map not showing: https://github.com/xtreme0021/Capstone/blob/master/Images/Canada_marker_cluster.png"
   ]
  },
  {
   "cell_type": "markdown",
   "metadata": {},
   "source": [
    "<br><br>\n",
    "## UK Map"
   ]
  },
  {
   "cell_type": "code",
   "execution_count": null,
   "metadata": {},
   "outputs": [],
   "source": [
    "uk_map = folium.Map(location=uk_coordinates, zoom_start=6)\n",
    "mc = MarkerCluster().add_to(uk_map)\n",
    "\n",
    "for row in df_uk.itertuples():\n",
    "    folium.Marker(\n",
    "        location=[row.latitude, row.longitude],\n",
    "        icon=None,\n",
    "        popup=row.college_name\n",
    "    ).add_to(mc)\n",
    "\n",
    "uk_map"
   ]
  },
  {
   "cell_type": "markdown",
   "metadata": {},
   "source": [
    "In case map not showing: https://github.com/xtreme0021/Capstone/blob/master/Images/UK_marker_cluster.png"
   ]
  },
  {
   "cell_type": "markdown",
   "metadata": {},
   "source": [
    "<br><br>\n",
    "# Lets Take a look at the salary"
   ]
  },
  {
   "cell_type": "code",
   "execution_count": null,
   "metadata": {},
   "outputs": [],
   "source": [
    "df.describe()"
   ]
  },
  {
   "cell_type": "code",
   "execution_count": null,
   "metadata": {},
   "outputs": [],
   "source": [
    "sns.set(rc={'figure.figsize': (3, 6)})\n",
    "boxplot = sns.boxplot(data=df['fees'])"
   ]
  },
  {
   "cell_type": "markdown",
   "metadata": {},
   "source": [
    "## Let's look at average fees by country"
   ]
  },
  {
   "cell_type": "code",
   "execution_count": null,
   "metadata": {},
   "outputs": [],
   "source": [
    "print('Average fees per country')\n",
    "print(\"USA : {0:.2f}\".format(df_usa['fees'].mean()))\n",
    "print(\"UK : {0:.2f}\".format(df_uk['fees'].mean()))\n",
    "print(\"Canada : {0:.2f}\".format(df_canada['fees'].mean()))"
   ]
  },
  {
   "cell_type": "code",
   "execution_count": null,
   "metadata": {},
   "outputs": [],
   "source": [
    "sns.set(rc={'figure.figsize': (7, 6)})\n",
    "boxplot = sns.boxplot(\n",
    "    data=df,\n",
    "    x='country',\n",
    "    y='fees'\n",
    ")"
   ]
  },
  {
   "cell_type": "markdown",
   "metadata": {},
   "source": [
    "# Note: \n",
    "\n",
    "## The box plot of Canada lies within the 50% Quartile range of USA, it won't be surprising if we get more <font color = 037ffc>Canadian colleges</font> when looking for similar <font color = 037ffc>low fees</font> colleges when holding money as a criterion.\n",
    "\n",
    "## Similarly, <font color = 037ffc>UK</font> would be a preferred choice when choosing <font color = 037ffc>mid to high fees </font>colleges when compared to USA when holding money as a criterion.\n",
    "\n",
    "## It is obvious, but let me specifically point out, <font color = 'red'>USA has the highest fees</font> in all 3 nations."
   ]
  },
  {
   "cell_type": "markdown",
   "metadata": {},
   "source": [
    "<br><br><br>\n",
    "<a id='item5'></a> \n",
    "# 5. FourSquare Places API"
   ]
  },
  {
   "cell_type": "code",
   "execution_count": null,
   "metadata": {},
   "outputs": [],
   "source": [
    "CLIENT_ID = fs.get_client_id()  # your Foursquare ID\n",
    "CLIENT_SECRET = fs.get_client_secret()  # your Foursquare Secret\n",
    "VERSION = '20181102'  # Foursquare API version\n",
    "RADIUS = 10000  # Radius to search in\n",
    "LIMIT = 20  # Limit to no. of search results"
   ]
  },
  {
   "cell_type": "code",
   "execution_count": null,
   "metadata": {},
   "outputs": [],
   "source": [
    "def getNearbyVenues(names, latitudes, longitudes, radius=10000):\n",
    "    count = 0\n",
    "    venues_list = []\n",
    "    for name, lat, lng in zip(names, latitudes, longitudes):\n",
    "        print(count, name)\n",
    "\n",
    "        # create the API request URL\n",
    "        url = 'https://api.foursquare.com/v2/venues/explore?&client_id={}&client_secret={}&v={}&ll={},{}&radius={}&limit={}'.format(\n",
    "            CLIENT_ID,\n",
    "            CLIENT_SECRET,\n",
    "            VERSION,\n",
    "            lat,\n",
    "            lng,\n",
    "            radius,\n",
    "            LIMIT)\n",
    "\n",
    "        # make the GET request\n",
    "        try:\n",
    "            results = requests.get(url).json()[\n",
    "                \"response\"]['groups'][0]['items']\n",
    "            venues_list.append([(\n",
    "                name,\n",
    "                lat,\n",
    "                lng,\n",
    "                v['venue']['name'],\n",
    "                v['venue']['location']['lat'],\n",
    "                v['venue']['location']['lng'],\n",
    "                v['venue']['categories'][0]['shortName']) for v in results])\n",
    "\n",
    "        except KeyError:\n",
    "            print('KeyError: Replacing with none.')\n",
    "            venues_list.append([name, lat, lng, None, None, None, None])\n",
    "        count += 1\n",
    "\n",
    "    return (venues_list)"
   ]
  },
  {
   "cell_type": "code",
   "execution_count": null,
   "metadata": {
    "scrolled": true
   },
   "outputs": [],
   "source": [
    "college_venues = getNearbyVenues(names=df['college_name'],\n",
    "                                 latitudes=df['latitude'],\n",
    "                                 longitudes=df['longitude']\n",
    "                                 )"
   ]
  },
  {
   "cell_type": "code",
   "execution_count": null,
   "metadata": {
    "scrolled": true
   },
   "outputs": [],
   "source": [
    "none_list = []\n",
    "for i in range(len(college_venues)+1):\n",
    "    try:\n",
    "        if college_venues[i][-1] == None:\n",
    "            none_list.append(i)\n",
    "    except:\n",
    "        pass\n",
    "none_list"
   ]
  },
  {
   "cell_type": "code",
   "execution_count": null,
   "metadata": {
    "scrolled": true
   },
   "outputs": [],
   "source": [
    "not_none = []\n",
    "for i in range(len(college_venues)):\n",
    "    if i not in none_list:\n",
    "        not_none.append(college_venues[i])\n",
    "    else:\n",
    "        pass"
   ]
  },
  {
   "cell_type": "code",
   "execution_count": null,
   "metadata": {},
   "outputs": [],
   "source": [
    "nearby_venues = pd.DataFrame(\n",
    "    [item for venue_list in not_none for item in venue_list])\n",
    "nearby_venues.columns = ['college_name',\n",
    "                         'c_latitude',\n",
    "                         'c_longitude',\n",
    "                         'venue',\n",
    "                         'v_latitude',\n",
    "                         'v_longitude',\n",
    "                         'v_category']"
   ]
  },
  {
   "cell_type": "code",
   "execution_count": null,
   "metadata": {},
   "outputs": [],
   "source": [
    "df.drop(none_list)"
   ]
  },
  {
   "cell_type": "code",
   "execution_count": null,
   "metadata": {},
   "outputs": [],
   "source": [
    "nearby_venues.groupby('college_name').count()"
   ]
  },
  {
   "cell_type": "code",
   "execution_count": null,
   "metadata": {},
   "outputs": [],
   "source": [
    "print('There are {} uniques categories.'.format(\n",
    "    len(nearby_venues['v_category'].unique())))"
   ]
  },
  {
   "cell_type": "markdown",
   "metadata": {},
   "source": [
    "<br><br><br>\n",
    "<a id='item6'></a> \n",
    "# 6. Clustering"
   ]
  },
  {
   "cell_type": "code",
   "execution_count": null,
   "metadata": {},
   "outputs": [],
   "source": [
    "nearby_onehot = pd.get_dummies(\n",
    "    nearby_venues[['v_category']], prefix=\"\", prefix_sep=\"\")\n",
    "\n",
    "# add college_name column back to dataframe\n",
    "nearby_onehot['college_name'] = nearby_venues['college_name']\n",
    "\n",
    "# move college_name column to the first column\n",
    "fixed_columns = [nearby_onehot.columns[-1]] + list(nearby_onehot.columns[:-1])\n",
    "nearby_onehot = nearby_onehot[fixed_columns]\n",
    "\n",
    "nearby_onehot.head()"
   ]
  },
  {
   "cell_type": "code",
   "execution_count": null,
   "metadata": {},
   "outputs": [],
   "source": [
    "nearby_grouped = nearby_onehot.groupby('college_name').mean().reset_index()\n",
    "nearby_grouped"
   ]
  },
  {
   "cell_type": "code",
   "execution_count": null,
   "metadata": {},
   "outputs": [],
   "source": [
    "def return_most_common_venues(row, num_top_venues):\n",
    "    row_categories = row.iloc[1:]\n",
    "    row_categories_sorted = row_categories.sort_values(ascending=False)\n",
    "\n",
    "    return row_categories_sorted.index.values[0:num_top_venues]"
   ]
  },
  {
   "cell_type": "code",
   "execution_count": null,
   "metadata": {},
   "outputs": [],
   "source": [
    "num_top_venues = 10\n",
    "\n",
    "indicators = ['st', 'nd', 'rd']\n",
    "\n",
    "# create columns according to number of top venues\n",
    "columns = ['college_name']\n",
    "for ind in np.arange(num_top_venues):\n",
    "    try:\n",
    "        columns.append('{}{} Most Common Venue'.format(ind+1, indicators[ind]))\n",
    "    except:\n",
    "        columns.append('{}th Most Common Venue'.format(ind+1))\n",
    "\n",
    "# create a new dataframe\n",
    "nearby_venues_sorted = pd.DataFrame(columns=columns)\n",
    "nearby_venues_sorted['college_name'] = nearby_grouped['college_name']\n",
    "\n",
    "for ind in np.arange(nearby_grouped.shape[0]):\n",
    "    nearby_venues_sorted.iloc[ind, 1:] = return_most_common_venues(\n",
    "        nearby_grouped.iloc[ind, :], num_top_venues)\n",
    "\n",
    "nearby_venues_sorted.head()"
   ]
  },
  {
   "cell_type": "code",
   "execution_count": null,
   "metadata": {},
   "outputs": [],
   "source": [
    "from sklearn.cluster import KMeans"
   ]
  },
  {
   "cell_type": "code",
   "execution_count": null,
   "metadata": {},
   "outputs": [],
   "source": [
    "# set number of clusters\n",
    "kclusters = 5\n",
    "\n",
    "nearby_grouped_clustering = nearby_grouped.drop('college_name', 1)\n",
    "\n",
    "# run k-means clustering\n",
    "kmeans = KMeans(n_clusters=kclusters, random_state=0).fit(\n",
    "    nearby_grouped_clustering)\n",
    "\n",
    "# check cluster labels generated for each row in the dataframe\n",
    "kmeans.labels_[0:10]"
   ]
  },
  {
   "cell_type": "code",
   "execution_count": null,
   "metadata": {},
   "outputs": [],
   "source": [
    "# add clustering labels\n",
    "nearby_venues_sorted.insert(0, 'Cluster Labels', kmeans.labels_)\n",
    "\n",
    "nearby_merged = df\n",
    "\n",
    "# merge toronto_grouped with toronto_data to add latitude/longitude for each neighborhood\n",
    "nearby_merged = nearby_merged.join(\n",
    "    nearby_venues_sorted.set_index('college_name'), on='college_name')\n",
    "\n",
    "nearby_merged.head()  # check the last columns!"
   ]
  },
  {
   "cell_type": "code",
   "execution_count": null,
   "metadata": {},
   "outputs": [],
   "source": [
    "nearby_merged[nearby_merged['Cluster Labels'].isnull()]"
   ]
  },
  {
   "cell_type": "code",
   "execution_count": null,
   "metadata": {},
   "outputs": [],
   "source": [
    "nearby_merged.drop(619, inplace=True)"
   ]
  },
  {
   "cell_type": "code",
   "execution_count": null,
   "metadata": {},
   "outputs": [],
   "source": [
    "# create map\n",
    "map_clusters = folium.Map(location=usa_coordinates, zoom_start=3)\n",
    "\n",
    "# set color scheme for the clusters\n",
    "x = np.arange(kclusters)\n",
    "ys = [i + x + (i*x)**2 for i in range(kclusters)]\n",
    "colors_array = cm.rainbow(np.linspace(0, 1, len(ys)))\n",
    "rainbow = [colors.rgb2hex(i) for i in colors_array]\n",
    "\n",
    "# add markers to the map\n",
    "markers_colors = []\n",
    "for lat, lon, poi, cluster in zip(nearby_merged['latitude'], nearby_merged['longitude'], nearby_merged['college_name'], nearby_merged['Cluster Labels']):\n",
    "    label = folium.Popup(str(poi) + ' Cluster ' +\n",
    "                         str(cluster), parse_html=True)\n",
    "    folium.CircleMarker(\n",
    "        [lat, lon],\n",
    "        radius=5,\n",
    "        popup=label,\n",
    "        color=rainbow[int(cluster-1)],\n",
    "        fill=True,\n",
    "        fill_color=rainbow[int(cluster-1)],\n",
    "        fill_opacity=0.7).add_to(map_clusters)\n",
    "\n",
    "map_clusters"
   ]
  },
  {
   "cell_type": "markdown",
   "metadata": {
    "tags": []
   },
   "source": [
    "# in case map not showing: https://github.com/xtreme0021/Capstone/blob/master/Images/Cluster.png\n",
    "<br><br><br>"
   ]
  },
  {
   "cell_type": "code",
   "execution_count": null,
   "metadata": {
    "scrolled": true
   },
   "outputs": [],
   "source": [
    "nearby_merged.loc[nearby_merged['Cluster Labels'] == 0,\n",
    "                  nearby_merged.columns[[1] + list(range(5, nearby_merged.shape[1]))]]"
   ]
  },
  {
   "cell_type": "code",
   "execution_count": null,
   "metadata": {
    "scrolled": true
   },
   "outputs": [],
   "source": [
    "nearby_merged.loc[nearby_merged['Cluster Labels'] == 1,\n",
    "                  nearby_merged.columns[[1] + list(range(5, nearby_merged.shape[1]))]]"
   ]
  },
  {
   "cell_type": "code",
   "execution_count": null,
   "metadata": {
    "scrolled": true
   },
   "outputs": [],
   "source": [
    "nearby_merged.loc[nearby_merged['Cluster Labels'] == 2,\n",
    "                  nearby_merged.columns[[1] + list(range(5, nearby_merged.shape[1]))]]"
   ]
  },
  {
   "cell_type": "code",
   "execution_count": null,
   "metadata": {
    "scrolled": true
   },
   "outputs": [],
   "source": [
    "nearby_merged.loc[nearby_merged['Cluster Labels'] == 3,\n",
    "                  nearby_merged.columns[[1] + list(range(5, nearby_merged.shape[1]))]]"
   ]
  },
  {
   "cell_type": "code",
   "execution_count": null,
   "metadata": {
    "scrolled": true
   },
   "outputs": [],
   "source": [
    "nearby_merged.loc[nearby_merged['Cluster Labels'] == 4,\n",
    "                  nearby_merged.columns[[1] + list(range(5, nearby_merged.shape[1]))]]"
   ]
  },
  {
   "cell_type": "markdown",
   "metadata": {},
   "source": [
    "<br><br>\n",
    "# Conclusion:\n",
    "The colleges have been genuinely clustered on the basis of their neighbourhood, and have an indefinite trend. From the clusters it is apparent that the neighbourhood of UK will majorly defer from that of USA or Canada. Hence, I’ve successfully clustered the college neighbourhood into the following categories:\n",
    "1.\tAmerican Eats\n",
    "2.\tExotic Eats\n",
    "3.\tTour/ Outgoing\n",
    "4.\tNight Life (Pub) and Fitness\n",
    "5.\tArt Prone/ Mature Audience\n"
   ]
  },
  {
   "cell_type": "markdown",
   "metadata": {},
   "source": [
    "## Credits\n",
    "World Universities Data set: https://github.com/endSly/"
   ]
  }
 ],
 "metadata": {
  "kernelspec": {
   "display_name": "Python 3 (ipykernel)",
   "language": "python",
   "name": "python3"
  },
  "language_info": {
   "codemirror_mode": {
    "name": "ipython",
    "version": 3
   },
   "file_extension": ".py",
   "mimetype": "text/x-python",
   "name": "python",
   "nbconvert_exporter": "python",
   "pygments_lexer": "ipython3",
   "version": "3.9.12"
  }
 },
 "nbformat": 4,
 "nbformat_minor": 4
}
